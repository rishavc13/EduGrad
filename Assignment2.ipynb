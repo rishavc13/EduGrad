{
 "cells": [
  {
   "cell_type": "code",
   "execution_count": 26,
   "metadata": {},
   "outputs": [],
   "source": [
    "import csv\n",
    "rows1=[]\n",
    "rows2=[]\n",
    "with open('new_records.csv','r') as csv_file2:\n",
    "    csv_reader=csv.reader(csv_file2)\n",
    "    for each in csv_reader:\n",
    "        li=[]\n",
    "        name=[]\n",
    "        if(each[0].startswith('emp')):\n",
    "            li.append(each[0][3:])\n",
    "            name=each[1].split()\n",
    "            li.extend(name)\n",
    "            li.extend(each[2:])\n",
    "            rows1.append(li)\n",
    "        else:\n",
    "            li.append(each[0][-2:])\n",
    "            name=each[1].split()\n",
    "            li.extend(name)\n",
    "            li.extend(each[2:])\n",
    "            rows2.append(li)\n",
    "with open('employee_list.csv','a',newline='') as csv_file1:\n",
    "    csv_writer1=csv.writer(csv_file1)\n",
    "    csv_writer1.writerows(rows1)\n",
    "with open('contractors_list.csv','w',newline='') as csv_file2:\n",
    "    csv_writer2=csv.writer(csv_file2)\n",
    "    csv_writer2.writerows(rows2)"
   ]
  }
 ],
 "metadata": {
  "kernelspec": {
   "display_name": "Python 3",
   "language": "python",
   "name": "python3"
  },
  "language_info": {
   "codemirror_mode": {
    "name": "ipython",
    "version": 3
   },
   "file_extension": ".py",
   "mimetype": "text/x-python",
   "name": "python",
   "nbconvert_exporter": "python",
   "pygments_lexer": "ipython3",
   "version": "3.6.0"
  }
 },
 "nbformat": 4,
 "nbformat_minor": 2
}
